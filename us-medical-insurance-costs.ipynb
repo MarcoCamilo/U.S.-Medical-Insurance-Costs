{
 "cells": [
  {
   "cell_type": "markdown",
   "metadata": {},
   "source": [
    "# U.S. Medical Insurance Costs"
   ]
  },
  {
   "cell_type": "markdown",
   "metadata": {},
   "source": [
    "An unguided Python project investigating a medical insurance costs dataset provided by Codeacademy in its *Data Scientist – Natural Language Processing* Career Path.\n",
    "\n",
    "To demonstrate a basic understanding of Python fundamentals, I'll be working with the information in the dataset and performing my own independent analysis. Skills to be demonstrated include:\n",
    "- Working locally through Jupyter Notebooks\n",
    "- Importing a dataset into my program\n",
    "- Performing data cleaning and extraction for analysis\n",
    "- Analyze a dataset by building out functions\n",
    "- Use of libraries to assist in my analysis"
   ]
  },
  {
   "cell_type": "markdown",
   "metadata": {},
   "source": [
    "Here are the of the questions I'll attempt to answer using this dataset according to different areas of interest:\n",
    "- Demographics \n",
    "  - What is the average age of patients?\n",
    "  - Are men and women equally represented in the dataset?\n",
    "  - What is the age distribution of the sample?\n",
    "- Insurance costs\n",
    "  - What is the range of costs payed by patients in this dataset?\n",
    "  - How much do women pay compared to men on average?\n",
    "  - How much does smoking increase the cost of medical insurance?\n",
    "  - Are there geographical differences in the costs for U.S. medical insurance?"
   ]
  },
  {
   "cell_type": "markdown",
   "metadata": {},
   "source": [
    "### Ideas to perfect portfolio project\n",
    "- [ ] Create an average function, that takes in a list of numbers and calculates its average using `sum()` and `len()`.\n",
    "- [ ] Explain the code using comments."
   ]
  },
  {
   "cell_type": "markdown",
   "metadata": {},
   "source": [
    "# Importing and Preparing the Dataset"
   ]
  },
  {
   "cell_type": "markdown",
   "metadata": {},
   "source": [
    "## Save Dataset Variables"
   ]
  },
  {
   "cell_type": "code",
   "execution_count": 38,
   "metadata": {},
   "outputs": [
    {
     "name": "stdout",
     "output_type": "stream",
     "text": [
      "0 : 19 female 27.9 0 yes southwest 16884.92\n",
      "1 : 18 male 33.77 1 no southeast 1725.55\n",
      "2 : 28 male 33.0 3 no southeast 4449.46\n",
      "3 : 33 male 22.705 0 no northwest 21984.47\n",
      "4 : 32 male 28.88 0 no northwest 3866.86\n",
      "5 : 31 female 25.74 0 no southeast 3756.62\n",
      "6 : 46 female 33.44 1 no southeast 8240.59\n",
      "7 : 37 female 27.74 3 no northwest 7281.51\n",
      "8 : 37 male 29.83 2 no northeast 6406.41\n",
      "9 : 60 female 25.84 0 no northwest 28923.14\n"
     ]
    }
   ],
   "source": [
    "import csv\n",
    "\n",
    "with open('insurance.csv', 'r') as insurance_data:\n",
    "    data = csv.DictReader(insurance_data)\n",
    "\n",
    "    age = []\n",
    "    sex = []\n",
    "    bmi = []\n",
    "    children = []\n",
    "    smoker = []\n",
    "    region = []\n",
    "    charges = []\n",
    "\n",
    "    for row in data:\n",
    "        age.append(int(row['age']))\n",
    "        sex.append(row['sex'])\n",
    "        bmi.append(float(row['bmi']))\n",
    "        children.append(int(row['children']))\n",
    "        smoker.append(row['smoker'])\n",
    "        region.append(row['region'])\n",
    "        charges.append(round(float(row['charges']),2))\n",
    "\n",
    "# Prints a sample of the dataset with an index before the corresponding variables\n",
    "for i in range(0,10):\n",
    "    print(i, \":\", age[i], sex[i], bmi[i], children[i], smoker[i], region[i], charges[i])"
   ]
  },
  {
   "cell_type": "markdown",
   "metadata": {},
   "source": [
    "# Analysis"
   ]
  },
  {
   "cell_type": "markdown",
   "metadata": {},
   "source": [
    "## Demographics"
   ]
  },
  {
   "cell_type": "markdown",
   "metadata": {},
   "source": [
    "### Average Age of Patients"
   ]
  },
  {
   "cell_type": "code",
   "execution_count": 11,
   "metadata": {},
   "outputs": [
    {
     "name": "stdout",
     "output_type": "stream",
     "text": [
      "The average age in the sample is 39.21\n"
     ]
    }
   ],
   "source": [
    "## Calculate average using loops\n",
    "\n",
    "# sum_of_ages = 0\n",
    "# for i in age:\n",
    "#    sum_of_ages += i\n",
    "\n",
    "## Calculate average using the sum() function (the easier way) <---\n",
    "sum_of_ages = sum(age)\n",
    "\n",
    "age_average = sum_of_ages / len(age)\n",
    "\n",
    "print(\"The average age in the sample is \" + str(round(age_average,2)))"
   ]
  },
  {
   "cell_type": "markdown",
   "metadata": {},
   "source": [
    "### Representation of Men to Women in Sample"
   ]
  },
  {
   "cell_type": "code",
   "execution_count": 5,
   "metadata": {},
   "outputs": [
    {
     "name": "stdout",
     "output_type": "stream",
     "text": [
      "Summary:\n",
      "The sample consists of 676 men and 662 women, representing a 1.05% difference.\n",
      "There's a fairly good distribution of men and women in the sample.\n"
     ]
    }
   ],
   "source": [
    "def sex_distribution(field_name):\n",
    "    \"\"\"The function takes the field name as an argument from which the data is taken.\n",
    "    The program then calculates the amount of both sexes and prints out an analysis of\n",
    "    their distribution.\n",
    "    \"\"\"\n",
    "    num_men = 0\n",
    "    num_women = 0\n",
    "    total_sample = len(sex)\n",
    "    \n",
    "    for s in sex:\n",
    "        if s == 'male': num_men += 1\n",
    "        if s == 'female': num_women += 1\n",
    "    diff = abs(num_men - num_women)\n",
    "    diff_percentage = round((diff/total_sample)*100, 2)\n",
    "    \n",
    "    print(\"Summary:\\nThe sample consists of {} men and {} women,\".format(num_men, num_women) + \n",
    "        \" representing a \" + str(diff_percentage) + \"% difference.\")\n",
    "\n",
    "    if diff_percentage < 10:\n",
    "        print(\"There's a fairly good distribution of men and women in the sample.\")\n",
    "    if diff_percentage > 10 and num_women > num_men:\n",
    "        print(\"There are significantly more women in the sample.\")\n",
    "    if diff_percentage > 10 and num_women < num_men:\n",
    "        print(\"There are significantly more men in the sample.\")\n",
    "    if diff_percentage == 0:\n",
    "        print(\"There is the same amount of men and women the sample.\")\n",
    "\n",
    "\n",
    "\n",
    "sex_distribution(sex)\n"
   ]
  },
  {
   "cell_type": "markdown",
   "metadata": {},
   "source": [
    "### Age Distribution"
   ]
  },
  {
   "cell_type": "code",
   "execution_count": 16,
   "metadata": {},
   "outputs": [
    {
     "name": "stdout",
     "output_type": "stream",
     "text": [
      "Data Summary:\n",
      "\n",
      "Range: The ages range from 18 to 64 years old.\n",
      "Age Distribution:\n",
      "18 : ['69', '5.16%']\n",
      "19 : ['68', '5.08%']\n",
      "20 : ['29', '2.17%']\n",
      "21 : ['28', '2.09%']\n",
      "22 : ['28', '2.09%']\n",
      "23 : ['28', '2.09%']\n",
      "24 : ['28', '2.09%']\n",
      "25 : ['28', '2.09%']\n",
      "26 : ['28', '2.09%']\n",
      "27 : ['28', '2.09%']\n",
      "28 : ['28', '2.09%']\n",
      "29 : ['27', '2.02%']\n",
      "30 : ['27', '2.02%']\n",
      "31 : ['27', '2.02%']\n",
      "32 : ['26', '1.94%']\n",
      "33 : ['26', '1.94%']\n",
      "34 : ['26', '1.94%']\n",
      "35 : ['25', '1.87%']\n",
      "36 : ['25', '1.87%']\n",
      "37 : ['25', '1.87%']\n",
      "38 : ['25', '1.87%']\n",
      "39 : ['25', '1.87%']\n",
      "40 : ['27', '2.02%']\n",
      "41 : ['27', '2.02%']\n",
      "42 : ['27', '2.02%']\n",
      "43 : ['27', '2.02%']\n",
      "44 : ['27', '2.02%']\n",
      "45 : ['29', '2.17%']\n",
      "46 : ['29', '2.17%']\n",
      "47 : ['29', '2.17%']\n",
      "48 : ['29', '2.17%']\n",
      "49 : ['28', '2.09%']\n",
      "50 : ['29', '2.17%']\n",
      "51 : ['29', '2.17%']\n",
      "52 : ['29', '2.17%']\n",
      "53 : ['28', '2.09%']\n",
      "54 : ['28', '2.09%']\n",
      "55 : ['26', '1.94%']\n",
      "56 : ['26', '1.94%']\n",
      "57 : ['26', '1.94%']\n",
      "58 : ['25', '1.87%']\n",
      "59 : ['25', '1.87%']\n",
      "60 : ['23', '1.72%']\n",
      "61 : ['23', '1.72%']\n",
      "62 : ['23', '1.72%']\n",
      "63 : ['23', '1.72%']\n",
      "64 : ['22', '1.64%']\n",
      "Average: The average age from this sample is 39.21, with a median of 32.0.\n"
     ]
    }
   ],
   "source": [
    "def analyze_age(age_field):\n",
    "    \"\"\"This function returns a descriptive analysis of the age field, including its distribution, range, and average\"\"\"\n",
    "\n",
    "    print(\"Data Summary:\\n\")\n",
    "\n",
    "    # Range\n",
    "    range = min(age_field), max(age_field)\n",
    "    print(\"Range: The ages range from {} to {} years old.\".format(range[0], range[1]))\n",
    "\n",
    "    # Age Distribution\n",
    "    unique_age = list(set(age_field))\n",
    "    age_distribution = {}\n",
    "\n",
    "    print(\"Age Distribution:\")\n",
    "    for age in unique_age:\n",
    "        age_count = age_field.count(age)\n",
    "        age_count_percentage = round((age_count / len(age_field)) * 100, 2)\n",
    "        age_distribution[age] = [str(age_count), str(age_count_percentage) + \"%\"]\n",
    "    for k, v in age_distribution.items():\n",
    "        print(k, \":\", v)\n",
    "\n",
    "    # Average\n",
    "    average_age = sum(age_field) / len(age_field)\n",
    "\n",
    "    # Median\n",
    "    age_field.sort()\n",
    "    if len(age_field) % 2:\n",
    "        median = age_field[len(age_field)//2]\n",
    "    else:\n",
    "        median = sum(age_field[len(age_field) - 1:len(age_field) + 1]) / 2\n",
    "\n",
    "    print(\"Average: The average age from this sample is {}, with a median of {}.\".format(round(average_age, 2), round(median, 2)))\n",
    "\n",
    "\n",
    "\n",
    "analyze_age(age)\n"
   ]
  },
  {
   "cell_type": "markdown",
   "metadata": {},
   "source": [
    "### Location of Patients"
   ]
  },
  {
   "cell_type": "code",
   "execution_count": null,
   "metadata": {},
   "outputs": [
    {
     "name": "stdout",
     "output_type": "stream",
     "text": [
      "There are 324 or 24.29% patients living in the northeast.\n",
      "There are 325 or 24.29% patients living in the northwest.\n",
      "There are 364 or 27.2% patients living in the southeast.\n",
      "There are 325 or 24.29% patients living in the southwest."
     ]
    }
   ],
   "source": [
    "# Counters for regions\n",
    "patient_locations = {'northeast': 0, 'northwest': 0, 'southeast': 0, 'southwest': 0}\n",
    "\n",
    "# Iterate through items and update counters\n",
    "for r in region:\n",
    "    if r == 'northeast': patient_locations['northeast'] += 1\n",
    "    elif r == 'northwest': patient_locations['northwest'] += 1\n",
    "    elif r == 'southeast': patient_locations['southeast'] += 1\n",
    "    elif r == 'southwest': patient_locations['southwest'] += 1\n",
    "\n",
    "# Calculate percentages\n",
    "locations_percentages = {'northeast': 0, 'northwest': 0, 'southeast': 0, 'southwest': 0}\n",
    "\n",
    "locations_percentages['northeast'] = round((patient_locations['northwest'] / len(region))*100, 2)\n",
    "locations_percentages['northwest'] = round((patient_locations['northwest'] / len(region))*100, 2)\n",
    "locations_percentages['southeast'] = round((patient_locations['southeast'] / len(region))*100, 2)\n",
    "locations_percentages['southwest'] = round((patient_locations['southwest'] / len(region))*100, 2)\n",
    "\n",
    "# print(locations_percentages['northeast'])\n",
    "\n",
    "\n",
    "patient_locations = list(patient_locations.items())\n",
    "\n",
    "# Print-out (too lazy to write out every region)\n",
    "print(\"There are \" + str(patient_locations[0][1]) + \" or \" + str(locations_percentages['northeast']) + \"% patients living in the \" + patient_locations[0][0], end=\".\\n\")\n",
    "print(\"There are \" + str(patient_locations[1][1]) + \" or \" + str(locations_percentages['northwest']) + \"% patients living in the \" + patient_locations[1][0], end=\".\\n\")\n",
    "print(\"There are \" + str(patient_locations[2][1]) + \" or \" + str(locations_percentages['southeast']) + \"% patients living in the \" + patient_locations[2][0], end=\".\\n\")\n",
    "print(\"There are \" + str(patient_locations[3][1]) + \" or \" + str(locations_percentages['southwest']) + \"% patients living in the \" + patient_locations[3][0], end=\".\")"
   ]
  },
  {
   "cell_type": "markdown",
   "metadata": {},
   "source": [
    "## Insurance costs"
   ]
  },
  {
   "cell_type": "markdown",
   "metadata": {},
   "source": [
    "### Range and Average of Charges"
   ]
  },
  {
   "cell_type": "code",
   "execution_count": 81,
   "metadata": {},
   "outputs": [
    {
     "name": "stdout",
     "output_type": "stream",
     "text": [
      "The costs of medical insurance range between 1121.87 and 63770.43 dollars, with an overall average of 13270.42 dollars.\n"
     ]
    }
   ],
   "source": [
    "# Range of costs payed by patients\n",
    "cost_range = min(charges), max(charges)\n",
    "\n",
    "# Average costs\n",
    "average_cost = round(sum(charges) / len(charges), 2)\n",
    "\n",
    "print(\"The costs of medical insurance range between {} and {} dollars, with an overall average of {} dollars.\".format(cost_range[0], cost_range[1], average_cost))"
   ]
  },
  {
   "cell_type": "markdown",
   "metadata": {},
   "source": [
    "### Insurance Charges to Women vs Men"
   ]
  },
  {
   "cell_type": "code",
   "execution_count": 13,
   "metadata": {},
   "outputs": [
    {
     "name": "stdout",
     "output_type": "stream",
     "text": [
      "The average insurance costs for women is 12569.58 dollars.\n",
      "The average insurance costs for men is 13956.75 dollars.\n",
      "Based on this database, men pay more for medical insurance than women.\n"
     ]
    }
   ],
   "source": [
    "# Empty lists to save charges in\n",
    "charges_female = []\n",
    "charges_male = []\n",
    "\n",
    "# List of charges to men and women\n",
    "for i in range(0,len(sex)):\n",
    "    if sex[i] == 'female': charges_female.append(float(charges[i]))\n",
    "    if sex[i] == 'male': charges_male.append(float(charges[i]))\n",
    "\n",
    "# Calculate averages based on lists sum and length\n",
    "avg_female_charges = round(sum(charges_female) / len(charges_female), 2)\n",
    "avg_male_charges = round(sum(charges_male) / len(charges_male), 2)\n",
    "\n",
    "# Print-out\n",
    "print(\"The average insurance costs for women is {} dollars.\".format(avg_female_charges))\n",
    "print(\"The average insurance costs for men is {} dollars.\".format(avg_male_charges))\n",
    "if avg_female_charges > avg_male_charges:\n",
    "    print(\"Based on this database, women pay more for medical insurance than men.\")\n",
    "else:\n",
    "    print(\"Based on this database, men pay more for medical insurance than women.\")"
   ]
  },
  {
   "cell_type": "markdown",
   "metadata": {},
   "source": [
    "### Role of Smoking on Cost of Medical Insurance"
   ]
  },
  {
   "cell_type": "code",
   "execution_count": 29,
   "metadata": {},
   "outputs": [
    {
     "name": "stdout",
     "output_type": "stream",
     "text": [
      "According to this database, smoking increases the cost of medical insurance by 23615.96 dollars on average\n"
     ]
    }
   ],
   "source": [
    "# Calculate average cost for smokers and non-smokers\n",
    "charges_smoker = []\n",
    "charges_nonsmoker = []\n",
    "\n",
    "for i in range(0,len(smoker)):\n",
    "    if smoker[i] == 'yes': charges_smoker.append(float(charges[i]))\n",
    "    elif smoker[i] == 'no': charges_nonsmoker.append(float(charges[i]))\n",
    "\n",
    "avg_cost_smoker = round(sum(charges_smoker) / len(charges_smoker), 2)\n",
    "avg_cost_nonsmoker = round(sum(charges_nonsmoker) / len(charges_nonsmoker), 2)\n",
    "diff_smoker_vs_nonsmoker = abs(avg_cost_smoker - avg_cost_nonsmoker)\n",
    "\n",
    "# Print-out\n",
    "verb = [\"increases\" if avg_cost_smoker > avg_cost_nonsmoker else \"decreases\"]\n",
    "    # The 'verb' variable changes the sentence according to whether smoking 'increases' or 'decreases'\n",
    "    # the cost of insurance.\n",
    "\n",
    "print(\"According to this database, smoking \" + verb[0] + \" the cost of medical insurance by \" \n",
    "        + str(diff_smoker_vs_nonsmoker) + \" dollars on average\")"
   ]
  },
  {
   "cell_type": "markdown",
   "metadata": {},
   "source": [
    "### Geographical differences in cost"
   ]
  },
  {
   "cell_type": "code",
   "execution_count": 83,
   "metadata": {},
   "outputs": [
    {
     "name": "stdout",
     "output_type": "stream",
     "text": [
      "There are the average costs of medical insurance per region:\n",
      "Northeast: 13406.38 dollars.\n",
      "Northwest: 12417.58 dollars.\n",
      "Southeast: 14735.41 dollars.\n",
      "Southwest: 12346.94 dollars.\n"
     ]
    }
   ],
   "source": [
    "# Empty lists to save costs to\n",
    "northeast_cost = []\n",
    "northwest_cost = []\n",
    "southeast_cost = []\n",
    "southwest_cost = []\n",
    "\n",
    "# Iterate through items and save costs in their respective region lists\n",
    "for i in range(0,len(region)):\n",
    "    if region[i] == 'northeast':\n",
    "        northeast_cost.append(round(float(charges[i]), 2))\n",
    "    elif region[i] == 'northwest':\n",
    "        northwest_cost.append(round(float(charges[i]), 2))\n",
    "    elif region[i] == 'southeast':\n",
    "        southeast_cost.append(round(float(charges[i]), 2))\n",
    "    elif region[i] == 'southwest':\n",
    "        southwest_cost.append(round(float(charges[i]), 2))\n",
    "\n",
    "# Calculate the averages\n",
    "northeast_cost = round(sum(northeast_cost) / len(northeast_cost), 2)\n",
    "northwest_cost = round(sum(northwest_cost) / len(northwest_cost), 2)\n",
    "southeast_cost = round(sum(southeast_cost) / len(southeast_cost), 2)\n",
    "southwest_cost = round(sum(southwest_cost) / len(southwest_cost), 2)\n",
    "\n",
    "#Print-out\n",
    "print(\"There are the average costs of medical insurance per region:\" \n",
    "        + \"\\nNortheast: \" + str(northeast_cost) + \" dollars.\"\n",
    "        + \"\\nNorthwest: \" + str(northwest_cost) + \" dollars.\"\n",
    "        + \"\\nSoutheast: \" + str(southeast_cost) + \" dollars.\"\n",
    "        + \"\\nSouthwest: \" + str(southwest_cost) + \" dollars.\"\n",
    "    )"
   ]
  },
  {
   "cell_type": "markdown",
   "metadata": {},
   "source": [
    "## Conclusions"
   ]
  },
  {
   "cell_type": "markdown",
   "metadata": {},
   "source": [
    "- The average age in the sample is 39.21.\n",
    "- The sample consists of 676 men and 662 women, representing a 1.05% difference, which means there's a fairly good distribution of men and women in the sample.\n",
    "- The ages in the sample range from 18 to 64 years old, with an average of 39.21 and a median of 32.\n",
    "- The patients are distributed among the four locations as follows:\n",
    "  - There are 324 or 24.29% patients living in the northeast.\n",
    "  - There are 325 or 24.29% patients living in the northwest.\n",
    "  - There are 364 or 27.2% patients living in the southeast.\n",
    "  - There are 325 or 24.29% patients living in the southwest.\n",
    "- The costs of medical insurance range between 1121.87 and 63770.43 dollars, with an overall average of 13270.42 dollars.\n",
    "- The average insurance costs for women is 12569.58 dollars, while the average insurance costs for men is 13956.75 dollars.Based on this database, men pay more for medical insurance than women.\n",
    "- According to this database, smoking increases the cost of medical insurance by 23615.96 dollars on average\n",
    "- There are the average costs of medical insurance per region:\n",
    "    - Northeast: 13406.38 dollars.\n",
    "    - Northwest: 12417.58 dollars.\n",
    "    - Southeast: 14735.41 dollars.\n",
    "    - Southwest: 12346.94 dollars."
   ]
  }
 ],
 "metadata": {
  "kernelspec": {
   "display_name": "Python 3.10.5 64-bit",
   "language": "python",
   "name": "python3"
  },
  "language_info": {
   "codemirror_mode": {
    "name": "ipython",
    "version": 3
   },
   "file_extension": ".py",
   "mimetype": "text/x-python",
   "name": "python",
   "nbconvert_exporter": "python",
   "pygments_lexer": "ipython3",
   "version": "3.10.5"
  },
  "vscode": {
   "interpreter": {
    "hash": "949777d72b0d2535278d3dc13498b2535136f6dfe0678499012e853ee9abcab1"
   }
  }
 },
 "nbformat": 4,
 "nbformat_minor": 4
}
